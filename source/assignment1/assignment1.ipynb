{
 "cells": [
  {
   "cell_type": "markdown",
   "id": "ca9380d9-6b32-4377-bca2-a2edfc86f442",
   "metadata": {
    "nbgrader": {
     "grade": false,
     "grade_id": "cell-86a0b7c9561c67af",
     "locked": true,
     "schema_version": 3,
     "solution": false,
     "task": false
    }
   },
   "source": [
    "Recall that the of an ecosystem at time $t$ can be encoded by a list of numbers, called vectors. For example, a state of an ecosystem involving orcas and seals can be represented as a list of two numbers as $$u(t) = \\begin{bmatrix} \\text{number of orcas at time $t$} \\\\ \\text{number of seals at time $t$} \\end{bmatrix}.$$\n",
    "\n",
    "If we observe $6$ orcas and $3$ seals at time $t = 0$, then we can write\n",
    "$$ u(0) = \\begin{bmatrix} 5 \\\\ 5 \\end{bmatrix}.$$\n",
    "\n",
    "In python, we write `u0 = np.array([6, 3])` to represent the above vector.  Remember that python prints a vectors as a row vector."
   ]
  },
  {
   "cell_type": "code",
   "execution_count": 32,
   "id": "2b5a844a-962c-43d5-8c29-6eec31b7a7a3",
   "metadata": {
    "nbgrader": {
     "grade": false,
     "grade_id": "cell-c8709c5961446039",
     "locked": true,
     "schema_version": 3,
     "solution": false,
     "task": false
    }
   },
   "outputs": [
    {
     "name": "stdout",
     "output_type": "stream",
     "text": [
      "[5 5]\n"
     ]
    }
   ],
   "source": [
    "import numpy as np\n",
    "import matplotlib.pyplot as plt\n",
    "\n",
    "u0 = np.array([5, 5]); print(u0)"
   ]
  },
  {
   "cell_type": "markdown",
   "id": "0adaaa2c-bf56-420e-aa1c-2a479216a9d6",
   "metadata": {
    "nbgrader": {
     "grade": false,
     "grade_id": "cell-9fa8b7b2c1383471",
     "locked": true,
     "schema_version": 3,
     "solution": false,
     "task": false
    }
   },
   "source": [
    "## Question 1 - State and change vectors\n",
    "\n",
    "**Part 1**\n",
    "\n",
    "Express the states of the following system in python.\n",
    "\n",
    "| time | orcas | seals |\n",
    "|------|-------|-------|\n",
    "|$1$   | $6$   | $3$   |\n",
    "|$2$   | $4$   | $2$   |\n",
    "|$3$   | $3$   | $5$   |\n",
    "|$4$   | $5$   | $7$   |\n"
   ]
  },
  {
   "cell_type": "code",
   "execution_count": null,
   "id": "3ee9e456-0b88-409f-aaeb-8bdb29f02001",
   "metadata": {},
   "outputs": [],
   "source": []
  },
  {
   "cell_type": "code",
   "execution_count": null,
   "id": "9e445beb-9ff0-44eb-bbf1-af5d6ed7f90e",
   "metadata": {
    "nbgrader": {
     "grade": true,
     "grade_id": "cell-c53d4f669bd9c08d",
     "locked": true,
     "points": 0,
     "schema_version": 3,
     "solution": false,
     "task": false
    }
   },
   "outputs": [],
   "source": [
    "assert isinstance(u1, numpy.ndarray)\n",
    "assert isinstance(u2, numpy.ndarray)\n",
    "assert isinstance(u3, numpy.ndarray)\n",
    "assert isinstance(u4, numpy.ndarray)\n",
    "### BEGIN HIDDEN TESTS\n",
    "assert u1 == np.array([[6, 3]])\n",
    "assert u2 == np.array([[4, 2]])\n",
    "assert u3 == np.array([[3, 5]])\n",
    "assert u4 == np.array([[5, 7]])\n",
    "### END HIDDEN TESTS"
   ]
  },
  {
   "cell_type": "markdown",
   "id": "46ee0891-30cf-4fe9-866d-05114538de63",
   "metadata": {},
   "source": [
    "**Part 2**\n",
    "\n",
    "Use the provided `draw_change_arrow(start, change)` to draw the change vectors from time $t = 1$ to $t = 4$."
   ]
  },
  {
   "cell_type": "code",
   "execution_count": 28,
   "id": "9ce45248-9fa2-4ebe-941d-c5741bb0c34a",
   "metadata": {},
   "outputs": [
    {
     "data": {
      "image/png": "[encoded data removed]",
      "text/plain": [
       "<Figure size 640x480 with 1 Axes>"
      ]
     },
     "metadata": {},
     "output_type": "display_data"
    }
   ],
   "source": [
    "arrow_opts = {\n",
    "    \"head_width\": 0.2,\n",
    "    \"head_length\": 0.2,\n",
    "    \"color\": \"blue\",\n",
    "}\n",
    "plt.grid()\n",
    "plt.xlim(0, 10)\n",
    "plt.ylim(0, 10)\n",
    "plt.xlabel(\"orcas\")\n",
    "plt.ylabel(\"seals\")\n",
    "plt.gca().set_aspect('equal')\n",
    "\n",
    "def draw_change_arrow( start, change ):\n",
    "    \"\"\" draws a change arrow starting at `start` and moves by `change`. \"\"\"\n",
    "    plt.arrow( *start, *change, **arrow_opts )\n",
    "\n",
    "change = np.array([1,3])\n",
    "draw_change_arrow( u0, [1,3] )"
   ]
  },
  {
   "cell_type": "markdown",
   "id": "3373686c-a9fd-4851-89bf-5ab10225ac93",
   "metadata": {},
   "source": [
    "# Question 2 - Modelling and simulation\n",
    "\n",
    "Consider a population of juveniles and adults. Initially, there are 20 juveniles and 40 adults. At the end of each year,\n",
    "- 20% of the juveniles become adults, and the rest juveniles die,\n",
    "- 90% of the adults survive, and the rest of adults die, and\n",
    "- only adults produce off springs, and the per-capita birth rate is 15%.\n",
    "\n",
    "Predict the number of adults and juveniles after 2 years. How would you predict the populations at the end of $n$ years?"
   ]
  },
  {
   "cell_type": "code",
   "execution_count": 46,
   "id": "83e1753e-cc60-4e51-8be7-bb16cf6350c6",
   "metadata": {},
   "outputs": [],
   "source": [
    "%reset -f \n",
    "import numpy as np\n",
    "u0 = np.array([20, 40])\n",
    "A  = np.reshape([0, 0.15, 0.2, 0.9], (2,2))"
   ]
  },
  {
   "cell_type": "code",
   "execution_count": 47,
   "id": "8789071d-624c-4ecb-ba26-bc3204541c0a",
   "metadata": {},
   "outputs": [
    {
     "data": {
      "text/plain": [
       "array([ 6., 40.])"
      ]
     },
     "execution_count": 47,
     "metadata": {},
     "output_type": "execute_result"
    }
   ],
   "source": [
    "u1 = A @ u0; u1"
   ]
  },
  {
   "cell_type": "code",
   "execution_count": 56,
   "id": "449b0ee3-3751-4b97-aeab-15b858ed27ca",
   "metadata": {},
   "outputs": [
    {
     "ename": "ValueError",
     "evalue": "The truth value of an array with more than one element is ambiguous. Use a.any() or a.all()",
     "output_type": "error",
     "traceback": [
      "\u001b[0;31m---------------------------------------------------------------------------\u001b[0m",
      "\u001b[0;31mValueError\u001b[0m                                Traceback (most recent call last)",
      "Cell \u001b[0;32mIn[56], line 3\u001b[0m\n\u001b[1;32m      1\u001b[0m \u001b[38;5;28;01massert\u001b[39;00m \u001b[38;5;28misinstance\u001b[39m(u1, np\u001b[38;5;241m.\u001b[39mndarray)\n\u001b[1;32m      2\u001b[0m \u001b[38;5;66;03m### BEGIN HIDDEN TESTS\u001b[39;00m\n\u001b[0;32m----> 3\u001b[0m \u001b[38;5;28;01massert\u001b[39;00m u1 \u001b[38;5;241m==\u001b[39m np\u001b[38;5;241m.\u001b[39marray([\u001b[38;5;241m6\u001b[39m, \u001b[38;5;241m40\u001b[39m])\n\u001b[1;32m      4\u001b[0m \u001b[38;5;66;03m### END HIDDEN TESTS\u001b[39;00m\n",
      "\u001b[0;31mValueError\u001b[0m: The truth value of an array with more than one element is ambiguous. Use a.any() or a.all()"
     ]
    }
   ],
   "source": [
    "assert isinstance(u1, np.ndarray)\n",
    "### BEGIN HIDDEN TESTS\n",
    "assert u1 == np.array([6, 40])\n",
    "### END HIDDEN TESTS"
   ]
  },
  {
   "cell_type": "code",
   "execution_count": null,
   "id": "abfb3f80-5fa1-4903-8c94-81b22ec0d3d2",
   "metadata": {},
   "outputs": [],
   "source": []
  }
 ],
 "metadata": {
  "kernelspec": {
   "display_name": "Python 3 (ipykernel)",
   "language": "python",
   "name": "python3"
  },
  "language_info": {
   "codemirror_mode": {
    "name": "ipython",
    "version": 3
   },
   "file_extension": ".py",
   "mimetype": "text/x-python",
   "name": "python",
   "nbconvert_exporter": "python",
   "pygments_lexer": "ipython3",
   "version": "3.12.10"
  }
 },
 "nbformat": 4,
 "nbformat_minor": 5
}
