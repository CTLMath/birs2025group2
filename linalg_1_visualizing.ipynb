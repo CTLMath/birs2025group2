{
 "cells": [
  {
   "cell_type": "markdown",
   "id": "b33bdb9e-f2a4-4571-b415-df380c2351d1",
   "metadata": {},
   "source": [
    "# Visualizing linear transformations and eigenvalues\n",
    "## Linear algebra 1 for science nerds\n",
    "---"
   ]
  },
  {
   "cell_type": "markdown",
   "id": "6d2db77c-70b5-448b-9b0f-9069f1f5190f",
   "metadata": {},
   "source": [
    "## Getting Python ready\n",
    "\n",
    "Loading some standard Python packages for linear algebra and plotting:"
   ]
  },
  {
   "cell_type": "code",
   "execution_count": 1,
   "id": "9f0fe218-979a-4526-a085-83f680181af4",
   "metadata": {
    "jupyter": {
     "source_hidden": true
    }
   },
   "outputs": [],
   "source": [
    "import numpy as np\n",
    "import scipy.linalg as la\n",
    "import matplotlib.pyplot as plt\n",
    "import ipywidgets as widgets"
   ]
  },
  {
   "cell_type": "markdown",
   "id": "df61f038-84ce-4e57-867f-15a5eb19fe79",
   "metadata": {},
   "source": [
    "And here is a built in function for plotting one or more vectors in 2D:"
   ]
  },
  {
   "cell_type": "code",
   "execution_count": 2,
   "id": "b64e0ad2-7a79-4374-a4c8-9f07098909ad",
   "metadata": {
    "jupyter": {
     "source_hidden": true
    }
   },
   "outputs": [],
   "source": [
    "def plot_vector(v, origin = np.array([0,0]), head_width = 0.1, head_length = 0.1, color = 'k', linestyle = \"-\"):\n",
    "    # Plots a single vector starting at the origin (or another point)\n",
    "\n",
    "    ###Problem: matplotlib adds the arrow head on the END of the vector,\n",
    "    ###so the actual end of the vector is at the base of the pointy tip.\n",
    "    ###Fix this manually by scaling the vector down, UNLESS the head_length itself is longer than the vector\n",
    "\n",
    "    v_norm = la.norm(v)\n",
    "    \n",
    "    if v_norm > head_length:\n",
    "        v_scaled = ((v_norm - head_length)/v_norm)*v #scalar multiply v by (|v|-headlength)/|v|.\n",
    "    else:\n",
    "        v_scaled = v\n",
    "        \n",
    "    plt.arrow(origin[0], origin[1], v_scaled[0], v_scaled[1],\n",
    "              head_width = head_width, head_length = head_length, ec = color, fc = color, linestyle = linestyle)\n",
    "\n",
    "def plot_columns(A, head_width = 0.1, head_length = 0.1, color = 'k', linestyle = \"-\"):\n",
    "    # Plots the columns of an 2 x n matrix as vectors starting from the origin.\n",
    "\n",
    "\n",
    "    ###CURRENTLY broken since I don't quite understand the syntax for 'quiver'\n",
    "#    origins = np.zeros(a.shape[0]) #zeroes as tails of all vectors.\n",
    "#    plt.quiver(\n",
    "#        origins, origins, #zero as vector origin\n",
    "#        a[0,:], a[1,:], #vector tips x and y coordinates as columns of a\n",
    "#        #head_width = headwidth,\n",
    "#       #head_length = headlength,\n",
    "#        angles = 'xy'\n",
    "#    )\n",
    "\n",
    "    #Instead just be lazy and loop over columns of A:\n",
    "    for column in range(A.shape[1]):\n",
    "        plot_vector(A[:,column], head_width = head_width, head_length = head_length, color = color, linestyle = linestyle)"
   ]
  },
  {
   "cell_type": "markdown",
   "id": "8c9a0679-1878-4045-84d2-37a2f2e9b2e3",
   "metadata": {},
   "source": [
    "---"
   ]
  },
  {
   "cell_type": "markdown",
   "id": "01c876cb-9af1-4228-be8f-7a5717c5f583",
   "metadata": {},
   "source": [
    "## Plotting vectors\n",
    "\n",
    "We can plot vectors as arrows starting from the origin, e.g. for three vectors\n",
    "$$\n",
    "    x = \\begin{bmatrix}\n",
    "        1 \\\\ 2\n",
    "    \\end{bmatrix},\\quad \n",
    "    y = \\begin{bmatrix}\n",
    "        -1 \\\\ 1\n",
    "    \\end{bmatrix},\\quad\n",
    "    z = \\begin{bmatrix}\n",
    "        -1 \\\\ -0.5\n",
    "    \\end{bmatrix}.\n",
    "$$"
   ]
  },
  {
   "cell_type": "code",
   "execution_count": 3,
   "id": "85cae2a1-28f0-4182-a163-7e05e92832ae",
   "metadata": {},
   "outputs": [
    {
     "data": {
      "image/png": "[encoded data removed]",
      "text/plain": [
       "<Figure size 640x480 with 1 Axes>"
      ]
     },
     "metadata": {},
     "output_type": "display_data"
    }
   ],
   "source": [
    "#Make up three vectors...\n",
    "x = np.array([1, 2])\n",
    "y = np.array([-1,1])\n",
    "z = np.array([-1,-0.5])\n",
    "\n",
    "#Plot the vectors\n",
    "plot_vector(x)\n",
    "plot_vector(y)\n",
    "plot_vector(z)\n",
    "\n",
    "#Plot options\n",
    "plt.axis('equal')\n",
    "plt.xlim([-3,3])\n",
    "plt.ylim([-3,3])\n",
    "plt.show()"
   ]
  },
  {
   "cell_type": "markdown",
   "id": "6eb418a9-d930-41e1-985f-3246fc4ed99a",
   "metadata": {},
   "source": [
    "Instead of manually plotting each vector, we can plot the vectors all at once by first putting them in the columns of a matrix, which here in this order would give the $2 \\times 3$ matrix\n",
    "$$\n",
    "    A =\n",
    "    \\begin{bmatrix}\n",
    "        1 & -1 & -1 \\\\\n",
    "        2 & 1 & -0.5\n",
    "    \\end{bmatrix}\n",
    "$$"
   ]
  },
  {
   "cell_type": "code",
   "execution_count": 4,
   "id": "44bfefc5-eb4c-454d-abac-68bf7f6b610f",
   "metadata": {},
   "outputs": [
    {
     "name": "stdout",
     "output_type": "stream",
     "text": [
      "[[ 1.  -1.  -1. ]\n",
      " [ 2.   1.  -0.5]]\n",
      "Shape of A:\n",
      "(2, 3)\n"
     ]
    }
   ],
   "source": [
    "#Combine the vectors into the columns of a matrix:\n",
    "A = np.vstack([x, y, z]).transpose()\n",
    "\n",
    "print(A)\n",
    "print('Shape of A:')\n",
    "print(A.shape)"
   ]
  },
  {
   "cell_type": "code",
   "execution_count": 5,
   "id": "1ab420b2-3d53-48ad-b510-2a11da06971f",
   "metadata": {},
   "outputs": [
    {
     "data": {
      "text/plain": [
       "(-3.0, 3.0)"
      ]
     },
     "execution_count": 5,
     "metadata": {},
     "output_type": "execute_result"
    },
    {
     "data": {
      "image/png": "[encoded data removed]",
      "text/plain": [
       "<Figure size 640x480 with 1 Axes>"
      ]
     },
     "metadata": {},
     "output_type": "display_data"
    }
   ],
   "source": [
    "#Plotting the columns of a matrix as vectors:\n",
    "\n",
    "plot_columns(A)\n",
    "\n",
    "plt.axis('equal')\n",
    "plt.xlim([-3,3])\n",
    "plt.ylim([-3,3])"
   ]
  },
  {
   "cell_type": "markdown",
   "id": "22370e45-3a00-4816-be3e-99a9749684d4",
   "metadata": {},
   "source": [
    "We can also draw vectors starting at points other than the origin:"
   ]
  },
  {
   "cell_type": "code",
   "execution_count": 6,
   "id": "aaafe187-9f2d-499a-9f7c-75bffeff302f",
   "metadata": {},
   "outputs": [
    {
     "data": {
      "text/plain": [
       "(0.0, 3.0)"
      ]
     },
     "execution_count": 6,
     "metadata": {},
     "output_type": "execute_result"
    },
    {
     "data": {
      "image/png": "[encoded data removed]",
      "text/plain": [
       "<Figure size 640x480 with 1 Axes>"
      ]
     },
     "metadata": {},
     "output_type": "display_data"
    }
   ],
   "source": [
    "u_origin = np.array([1,1])\n",
    "u = np.array([0.5,0.25])\n",
    "\n",
    "v_origin = np.array([1,2])\n",
    "v = np.array([-0.5,0.5])\n",
    "\n",
    "w_origin = np.array([1.75,1])\n",
    "w = np.array([0,-0.25]) \n",
    "\n",
    "plot_vector(u, origin = u_origin)\n",
    "plot_vector(v, origin = v_origin)\n",
    "plot_vector(w, origin = w_origin)\n",
    "\n",
    "plt.axis('equal')\n",
    "plt.xlim([0,3])\n",
    "plt.ylim([0,3])"
   ]
  },
  {
   "cell_type": "markdown",
   "id": "17bcf7c1-4d02-4084-bf4e-56ad334637bf",
   "metadata": {},
   "source": [
    "# Vector addition:\n",
    "\n",
    "So, we can draw vector addition, for example:"
   ]
  },
  {
   "cell_type": "code",
   "execution_count": 7,
   "id": "17882ac7-7948-4813-ab27-86ec9119b1c8",
   "metadata": {},
   "outputs": [
    {
     "data": {
      "image/png": "[encoded data removed]",
      "text/plain": [
       "<Figure size 640x480 with 1 Axes>"
      ]
     },
     "metadata": {},
     "output_type": "display_data"
    }
   ],
   "source": [
    "#Using the same x and y as before\n",
    "\n",
    "plot_vector(x)\n",
    "plot_vector(y, origin = x)\n",
    "plot_vector(x + y, color = 'b', linestyle = '--')\n",
    "\n",
    "plt.axis('equal')\n",
    "plt.xlim([-2,2])\n",
    "plt.ylim([-1,4])\n",
    "plt.show()"
   ]
  },
  {
   "cell_type": "markdown",
   "id": "afbffe78-550d-409e-975e-bccbf7fd2e1f",
   "metadata": {},
   "source": [
    "Or doing tip-to-tail in the other order:"
   ]
  },
  {
   "cell_type": "code",
   "execution_count": 8,
   "id": "331d1d61-aa71-42c2-b9cc-225186026072",
   "metadata": {},
   "outputs": [
    {
     "data": {
      "image/png": "[encoded data removed]",
      "text/plain": [
       "<Figure size 640x480 with 1 Axes>"
      ]
     },
     "metadata": {},
     "output_type": "display_data"
    }
   ],
   "source": [
    "plot_vector(y)\n",
    "plot_vector(x, origin = y)\n",
    "plot_vector(x + y, color = 'b', linestyle = '--')\n",
    "\n",
    "plt.axis('equal')\n",
    "plt.xlim([-2,2])\n",
    "plt.ylim([-1,4])\n",
    "plt.show()"
   ]
  },
  {
   "cell_type": "markdown",
   "id": "5655b4c2-a49a-43aa-8469-35d219be3578",
   "metadata": {},
   "source": [
    "...which shows commutativity of vector addition:"
   ]
  },
  {
   "cell_type": "code",
   "execution_count": 9,
   "id": "0ff91c05-1b1a-4adb-9bbc-f651462f3f6b",
   "metadata": {},
   "outputs": [
    {
     "data": {
      "image/png": "[encoded data removed]",
      "text/plain": [
       "<Figure size 640x480 with 1 Axes>"
      ]
     },
     "metadata": {},
     "output_type": "display_data"
    }
   ],
   "source": [
    "plot_vector(x)\n",
    "plot_vector(y, origin = x)\n",
    "\n",
    "plot_vector(y)\n",
    "plot_vector(x, origin = y)\n",
    "\n",
    "plot_vector(x + y, color = 'b', linestyle = '--')\n",
    "\n",
    "plt.axis('equal')\n",
    "plt.xlim([-2,2])\n",
    "plt.ylim([-1,4])\n",
    "plt.show()"
   ]
  },
  {
   "cell_type": "markdown",
   "id": "416232be-eada-45c7-a960-a1a78b716241",
   "metadata": {},
   "source": [
    "## Visualizing linear transformations\n",
    "\n",
    "A matrix $A$ represents the linear transformation that maps each standard basis vector to the corresponding column of $A$. The standard basis for $\\mathbb{R}^n$, when put as the columns of a matrix, forms the identity matrix:"
   ]
  },
  {
   "cell_type": "code",
   "execution_count": 10,
   "id": "c410b59d-a526-484d-a81c-35f8ab9c3d1e",
   "metadata": {},
   "outputs": [
    {
     "data": {
      "image/png": "[encoded data removed]",
      "text/plain": [
       "<Figure size 640x480 with 1 Axes>"
      ]
     },
     "metadata": {},
     "output_type": "display_data"
    }
   ],
   "source": [
    "plot_columns(np.eye(2))\n",
    "\n",
    "plt.axis('equal')\n",
    "plt.xlim(-2,2)\n",
    "plt.ylim(-2,2)\n",
    "plt.show()"
   ]
  },
  {
   "cell_type": "markdown",
   "id": "ed44ab2e-21fa-42cb-8993-cf053a521b96",
   "metadata": {},
   "source": [
    "For example, for the matrix\n",
    "$$\n",
    "    A = \\begin{bmatrix}\n",
    "        1 & -1 \\\\\n",
    "        1 & 1\n",
    "    \\end{bmatrix},\n",
    "$$\n",
    "the standard basis vectors get mapped as so:"
   ]
  },
  {
   "cell_type": "code",
   "execution_count": 11,
   "id": "60b199ef-4da0-4dc5-bd49-8f38d85964cb",
   "metadata": {},
   "outputs": [
    {
     "data": {
      "image/png": "[encoded data removed]",
      "text/plain": [
       "<Figure size 640x480 with 1 Axes>"
      ]
     },
     "metadata": {},
     "output_type": "display_data"
    }
   ],
   "source": [
    "A = np.array(\n",
    "    [[1, -1],\n",
    "     [1, 1]])\n",
    "\n",
    "# plot the columns of A\n",
    "plot_columns(A, color = 'b')\n",
    "\n",
    "# include the standard basis\n",
    "plot_columns(np.eye(2), linestyle = '-.')\n",
    "\n",
    "plt.axis('equal')\n",
    "plt.xlim([-2,2])\n",
    "plt.xlim([-2,2])\n",
    "plt.show()"
   ]
  },
  {
   "cell_type": "code",
   "execution_count": 12,
   "id": "e22da159-56ed-4d8a-89a9-4c6da78b7e3a",
   "metadata": {},
   "outputs": [
    {
     "data": {
      "image/png": "[encoded data removed]",
      "text/plain": [
       "<Figure size 640x480 with 1 Axes>"
      ]
     },
     "metadata": {},
     "output_type": "display_data"
    }
   ],
   "source": [
    "#What happens to A^2? And A^3?\n",
    "\n",
    "#Plot standard basis\n",
    "plot_columns(np.eye(2), linestyle = '-.')\n",
    "\n",
    "#Plot A again\n",
    "plot_columns(A, color = 'b')\n",
    "\n",
    "#Plot A^2\n",
    "plot_columns(A @ A, color = 'g')\n",
    "\n",
    "#Plot A^3\n",
    "plot_columns(A @ A @ A, color = 'r')\n",
    "plt.axis('equal')\n",
    "plt.xlim([-2,2])\n",
    "plt.xlim([-2,2])\n",
    "plt.show()"
   ]
  },
  {
   "cell_type": "markdown",
   "id": "e741b065-1755-41ee-82eb-71fc25147b3f",
   "metadata": {},
   "source": [
    "## Rotation matrices\n",
    "\n",
    "A rotation matrix by angle $\\theta$ rotates every vector by the angle $\\theta$, conventionally taken counterclockwise. So, the vector $e_1=(1,0)$ goes to $(\\cos(\\theta), \\sin(\\theta))$, and $e_2=(0,1)$ gets mapped to $(-\\sin(\\theta), \\cos\\theta)$. Therefore the matrix is\n",
    "$$\n",
    "    R_\\theta =\n",
    "        \\begin{bmatrix}\n",
    "            \\cos(\\theta) & -\\sin(\\theta) \\\\\n",
    "            \\sin(\\theta) & \\cos(\\theta)\n",
    "        \\end{bmatrix}.\n",
    "$$"
   ]
  },
  {
   "cell_type": "markdown",
   "id": "b96d2973-fcdf-4362-9b02-64a2704e0a8f",
   "metadata": {},
   "source": [
    "### Exercise:\n",
    "Write a python function that takes in a real angle $\\theta$ and outputs the matrix $R_\\theta$."
   ]
  },
  {
   "cell_type": "code",
   "execution_count": 13,
   "id": "34eed909-4e20-451c-a61a-d8b1c191d400",
   "metadata": {},
   "outputs": [],
   "source": [
    "### Your solution here!\n",
    "\n",
    "#\n",
    "\n",
    "#"
   ]
  },
  {
   "cell_type": "code",
   "execution_count": 14,
   "id": "5c27499c-0cd0-48fe-97e4-6e134b07eb0b",
   "metadata": {},
   "outputs": [],
   "source": [
    "### My solution:\n",
    "\n",
    "def rotation_matrix(theta):\n",
    "    # Returns 2 x 2 rotation by angle theta\n",
    "\n",
    "    #Avoid computing cos and sin twice:\n",
    "    c = np.cos(theta); s = np.sin(theta)\n",
    "    \n",
    "    return np.array(\n",
    "        [[c, -s],\n",
    "        [s, c]])"
   ]
  },
  {
   "cell_type": "markdown",
   "id": "609eb8a8-34db-40af-ab95-f295c1a71b73",
   "metadata": {},
   "source": [
    "Let's visualize a rotation by a small angle:"
   ]
  },
  {
   "cell_type": "code",
   "execution_count": 15,
   "id": "fd0d55dd-7b28-4fec-a55c-6ebfe36c652b",
   "metadata": {},
   "outputs": [
    {
     "data": {
      "image/png": "[encoded data removed]",
      "text/plain": [
       "<Figure size 640x480 with 1 Axes>"
      ]
     },
     "metadata": {},
     "output_type": "display_data"
    }
   ],
   "source": [
    "plot_columns(rotation_matrix(0.2), color = 'b')\n",
    "\n",
    "#include standard basis too\n",
    "\n",
    "plot_columns(np.eye(2), linestyle = '-.')\n",
    "\n",
    "plt.axis('equal')\n",
    "plt.xlim([-2,2])\n",
    "plt.ylim([-2,2])\n",
    "plt.show()"
   ]
  },
  {
   "cell_type": "markdown",
   "id": "f8af974c-e9af-4ff4-9b53-5c724bd10406",
   "metadata": {},
   "source": [
    "Note that a rotation (counterclockwise) by a *negative* angle is the same as rotating clockwise by a positive angle:"
   ]
  },
  {
   "cell_type": "code",
   "execution_count": 16,
   "id": "7151761c-17c1-40a0-ae84-437ac11564b4",
   "metadata": {},
   "outputs": [
    {
     "data": {
      "image/png": "[encoded data removed]",
      "text/plain": [
       "<Figure size 640x480 with 1 Axes>"
      ]
     },
     "metadata": {},
     "output_type": "display_data"
    }
   ],
   "source": [
    "plot_columns(rotation_matrix(-0.6), color = 'g')\n",
    "\n",
    "#include standard basis too\n",
    "\n",
    "plot_columns(np.eye(2), linestyle = '-.')\n",
    "\n",
    "plt.axis('equal')\n",
    "plt.xlim([-2,2])\n",
    "plt.ylim([-2,2])\n",
    "plt.show()"
   ]
  },
  {
   "cell_type": "code",
   "execution_count": 17,
   "id": "521ac2f2-b0fb-4ef8-b488-909727de1766",
   "metadata": {},
   "outputs": [
    {
     "data": {
      "application/vnd.jupyter.widget-view+json": {
       "model_id": "9a96b2975aec4da996f6bbebfc8cb9c0",
       "version_major": 2,
       "version_minor": 0
      },
      "text/plain": [
       "interactive(children=(FloatSlider(value=0.0, description='theta', max=6.283185307179586, min=-6.28318530717958…"
      ]
     },
     "metadata": {},
     "output_type": "display_data"
    }
   ],
   "source": [
    "def rotation_slider(theta):\n",
    "    plot_columns(rotation_matrix(theta), color = 'b')\n",
    "    #include standard basis too\n",
    "    plot_columns(np.eye(2), linestyle = '-.')\n",
    "    plt.axis('equal')\n",
    "    plt.xlim([-2,2])\n",
    "    plt.ylim([-2,2])\n",
    "\n",
    "\n",
    "widgets.interact(\n",
    "#    lambda theta: plot_columns(rotation_matrix(theta), color = 'b'),\n",
    "    rotation_slider,\n",
    "    theta = widgets.FloatSlider(value = 0, min = -2*np.pi, max = 2*np.pi,step = 0.005)\n",
    ");"
   ]
  },
  {
   "cell_type": "markdown",
   "id": "c5ebe96d-9da2-4f25-939b-5e9624824e29",
   "metadata": {},
   "source": [
    "## Linear Transformations\n",
    "\n",
    "A(n example of a) *skew* transformation has the matrix\n",
    "$$\n",
    "    S_t =\n",
    "    \\begin{bmatrix}\n",
    "        1 & t \\\\\n",
    "        0 & 1\n",
    "    \\end{bmatrix}.\n",
    "$$\n",
    "\n",
    "Write your own Python function that takes any real number $t$ as input and then outputs the corresponding skew matrix."
   ]
  },
  {
   "cell_type": "code",
   "execution_count": 18,
   "id": "fd1d7542-57bf-4fd0-a5f3-2418ddbfae3a",
   "metadata": {},
   "outputs": [],
   "source": [
    "### Your solution here:\n",
    "\n",
    "\n",
    "#\n",
    "\n",
    "#"
   ]
  },
  {
   "cell_type": "code",
   "execution_count": 19,
   "id": "9a5c7433-f8c4-424e-b640-98e69bc9f4f4",
   "metadata": {},
   "outputs": [],
   "source": [
    "### My solution:\n",
    "def xskew(t):\n",
    "    #Skew matrix in the x direction with real number scale t\n",
    "\n",
    "    return np.array([\n",
    "        [1., t],\n",
    "        [0., 1.]])"
   ]
  },
  {
   "cell_type": "markdown",
   "id": "300986cf-36de-4a16-9ee5-ed1af08a3afb",
   "metadata": {},
   "source": [
    "We can visualize the skew with a slider:"
   ]
  },
  {
   "cell_type": "code",
   "execution_count": 20,
   "id": "6ffbce11-2bce-4ddf-8879-a0b2291186f5",
   "metadata": {},
   "outputs": [
    {
     "data": {
      "application/vnd.jupyter.widget-view+json": {
       "model_id": "cc34383048f942a292cd54fd8d615688",
       "version_major": 2,
       "version_minor": 0
      },
      "text/plain": [
       "interactive(children=(FloatSlider(value=0.0, description='t', max=2.0, min=-2.0, step=0.005), Output()), _dom_…"
      ]
     },
     "metadata": {},
     "output_type": "display_data"
    }
   ],
   "source": [
    "def xskew_slider(t):\n",
    "    plot_columns(xskew(t), color = 'b')\n",
    "    #include standard basis too\n",
    "    plot_columns(np.eye(2), linestyle = '-.')\n",
    "    plt.axis('equal')\n",
    "    plt.xlim([-2,2])\n",
    "    plt.ylim([-2,2])\n",
    "\n",
    "widgets.interact(\n",
    "    xskew_slider,\n",
    "    t = widgets.FloatSlider(value = 0, min = -2, max = 2,step = 0.005)\n",
    ");"
   ]
  },
  {
   "cell_type": "markdown",
   "id": "f6f1f085-85ea-4614-a09c-a93193232e89",
   "metadata": {},
   "source": [
    "## Composing transformations\n",
    "\n",
    "Composing the linear transformations is the same as multiplying the associated matrices (in the right order). Applying a skew followed by a rotation gives the transformation with matrix\n",
    "$$\n",
    "    R_\\theta S_t.\n",
    "$$"
   ]
  },
  {
   "cell_type": "code",
   "execution_count": 21,
   "id": "d58c7ed1-ab5c-4cdc-835e-38ccee80cc71",
   "metadata": {},
   "outputs": [
    {
     "data": {
      "application/vnd.jupyter.widget-view+json": {
       "model_id": "5ebee7aed09246428c23dca013487ced",
       "version_major": 2,
       "version_minor": 0
      },
      "text/plain": [
       "interactive(children=(FloatSlider(value=0.0, description='t', max=2.0, min=-2.0, step=0.005), FloatSlider(valu…"
      ]
     },
     "metadata": {},
     "output_type": "display_data"
    }
   ],
   "source": [
    "def rotation_xskew_slider(t,theta):\n",
    "    plot_columns(rotation_matrix(theta) @ xskew(t), color = 'b')\n",
    "    #include standard basis too\n",
    "    plot_columns(np.eye(2), linestyle = '-.')\n",
    "    plt.axis('equal')\n",
    "    plt.xlim([-2,2])\n",
    "    plt.ylim([-2,2])\n",
    "\n",
    "widgets.interact(\n",
    "    rotation_xskew_slider,\n",
    "    t = widgets.FloatSlider(value = 0, min = -2, max = 2,step = 0.005),\n",
    "    theta = widgets.FloatSlider(value = 0, min = -2*np.pi, max = 2*np.pi,step = 0.005)    \n",
    ");"
   ]
  },
  {
   "cell_type": "code",
   "execution_count": 22,
   "id": "f5b5b022-9eaa-44e0-944b-3afb227905a0",
   "metadata": {},
   "outputs": [
    {
     "data": {
      "application/vnd.jupyter.widget-view+json": {
       "model_id": "96694e07a7bf40ce9e1a2e0aaf732bd8",
       "version_major": 2,
       "version_minor": 0
      },
      "text/plain": [
       "interactive(children=(FloatSlider(value=0.0, description='t', max=2.0, min=-2.0, step=0.005), FloatSlider(valu…"
      ]
     },
     "metadata": {},
     "output_type": "display_data"
    }
   ],
   "source": [
    "def xskew_rotation_slider(t,theta):\n",
    "    plot_columns(xskew(t) @ rotation_matrix(theta), color = 'g')\n",
    "    #include standard basis too\n",
    "    plot_columns(np.eye(2), linestyle = '-.')\n",
    "    plt.axis('equal')\n",
    "    plt.xlim([-2,2])\n",
    "    plt.ylim([-2,2])\n",
    "\n",
    "widgets.interact(\n",
    "    xskew_rotation_slider,\n",
    "    t = widgets.FloatSlider(value = 0, min = -2, max = 2,step = 0.005),\n",
    "    theta = widgets.FloatSlider(value = 0, min = -2*np.pi, max = 2*np.pi,step = 0.005)    \n",
    ");"
   ]
  },
  {
   "cell_type": "markdown",
   "id": "8ab37800-08a9-4e5e-a140-cf6ef0ed14a4",
   "metadata": {},
   "source": [
    "### Exercise:\n",
    "\n",
    "Using the sliders above, find values for $t$ and $\\theta$ for which it is *extremely clear* that $S_t R_\\theta\\ne R_\\theta S_t$."
   ]
  },
  {
   "cell_type": "code",
   "execution_count": 23,
   "id": "77433429-c81d-41c7-8b9c-6e99774eca62",
   "metadata": {},
   "outputs": [
    {
     "data": {
      "image/png": "[encoded data removed]",
      "text/plain": [
       "<Figure size 640x480 with 1 Axes>"
      ]
     },
     "metadata": {},
     "output_type": "display_data"
    }
   ],
   "source": [
    "###Your answers here:\n",
    "\n",
    "my_t = 1.5 #my answer\n",
    "my_theta = 2. #my answer\n",
    "\n",
    "\n",
    "### Plot both transformations at once:\n",
    "# (Don't change the code below!!)\n",
    "\n",
    "plot_columns(rotation_matrix(my_theta) @ xskew(my_t), color = 'g')\n",
    "plot_columns(xskew(my_t) @ rotation_matrix(my_theta), color = 'b')\n",
    "#include standard basis too\n",
    "plot_columns(np.eye(2), linestyle = '-.')\n",
    "\n",
    "plt.axis('equal')\n",
    "plt.xlim([-2,2])\n",
    "plt.ylim([-2,2])\n",
    "plt.show()"
   ]
  },
  {
   "cell_type": "markdown",
   "id": "a423341e-f2c9-485b-90a7-d4ec16c6e32d",
   "metadata": {},
   "source": [
    "## Custom linear transformation:\n",
    "\n",
    "By adjusting the values below (you can use the sliders or type in numbers), look at how the standard basis changes under the linear transformation with matrix\n",
    "$$\n",
    "    A = \\begin{bmatrix}\n",
    "        a & b \\\\\n",
    "        c & d\n",
    "        \\end{bmatrix}.\n",
    "$$"
   ]
  },
  {
   "cell_type": "code",
   "execution_count": 24,
   "id": "c754eb43-8a53-44c0-91b7-adc0895d3ef0",
   "metadata": {},
   "outputs": [
    {
     "data": {
      "application/vnd.jupyter.widget-view+json": {
       "model_id": "6e86314bd45042a6af8765df3031de27",
       "version_major": 2,
       "version_minor": 0
      },
      "text/plain": [
       "interactive(children=(FloatSlider(value=1.0, description='a', max=3.0, min=-3.0, step=0.01), FloatSlider(value…"
      ]
     },
     "metadata": {},
     "output_type": "display_data"
    }
   ],
   "source": [
    "def arbitrary_matrix_slider(a,b,c,d):\n",
    "    plot_columns(np.array([\n",
    "        [a, b],\n",
    "        [c,d]]),\n",
    "        color = 'b')\n",
    "        #include standard basis too\n",
    "    plot_columns(np.eye(2), linestyle = '-.')\n",
    "    plt.axis('equal')\n",
    "    plt.xlim([-2,2])\n",
    "    plt.ylim([-2,2])\n",
    "\n",
    "widgets.interact(\n",
    "    arbitrary_matrix_slider,\n",
    "    a = widgets.FloatSlider(value = 1, min = -3, max = 3, step = 0.01),\n",
    "    b = widgets.FloatSlider(value = 0, min = -3, max = 3, step = 0.01),\n",
    "    c = widgets.FloatSlider(value = 0, min = -3, max = 3, step = 0.01),\n",
    "    d = widgets.FloatSlider(value = 1, min = -3, max = 3, step = 0.01));"
   ]
  },
  {
   "cell_type": "markdown",
   "id": "6bed31ba-ebc8-43d0-ba40-19f67c000c2a",
   "metadata": {},
   "source": [
    "Now, let's post-compose with a rotation by $\\theta$, too, giving the matrix\n",
    "$\n",
    "    S_\\theta A.\n",
    "$"
   ]
  },
  {
   "cell_type": "code",
   "execution_count": 25,
   "id": "e738fbb5-fe55-4212-be63-36603c40117c",
   "metadata": {},
   "outputs": [
    {
     "data": {
      "application/vnd.jupyter.widget-view+json": {
       "model_id": "af61042861d1481bab934595ebf5f47d",
       "version_major": 2,
       "version_minor": 0
      },
      "text/plain": [
       "interactive(children=(FloatSlider(value=1.0, description='a', max=3.0, min=-3.0, step=0.01), FloatSlider(value…"
      ]
     },
     "metadata": {},
     "output_type": "display_data"
    }
   ],
   "source": [
    "def rotate_arbitrary_matrix_slider(a,b,c,d,theta):\n",
    "    plot_columns(rotation_matrix(theta) @ np.array([\n",
    "        [a, b],\n",
    "        [c,d]]),\n",
    "        color = 'b')\n",
    "        #include standard basis too\n",
    "    plot_columns(np.eye(2), linestyle = '-.')\n",
    "    plt.axis('equal')\n",
    "    plt.xlim([-2,2])\n",
    "    plt.ylim([-2,2])\n",
    "\n",
    "widgets.interact(\n",
    "    rotate_arbitrary_matrix_slider,\n",
    "    a = widgets.FloatSlider(value = 1, min = -3, max = 3, step = 0.01),\n",
    "    b = widgets.FloatSlider(value = 0, min = -3, max = 3, step = 0.01),\n",
    "    c = widgets.FloatSlider(value = 0, min = -3, max = 3, step = 0.01),\n",
    "    d = widgets.FloatSlider(value = 1, min = -3, max = 3, step = 0.01),\n",
    "    theta = widgets.FloatSlider(value = 0, min = -2 * np.pi, max = 2* np.pi, step = 0.005));"
   ]
  },
  {
   "cell_type": "markdown",
   "id": "e2c6671e-486a-4aa8-975d-11d60553d648",
   "metadata": {},
   "source": [
    "### TODO now:\n",
    "\n",
    "How to make:\n",
    "- Fancy animations.\n",
    "- Interactive and fancy animations.\n",
    "- Apply a matrix to a point cloud or image file?"
   ]
  },
  {
   "cell_type": "code",
   "execution_count": null,
   "id": "08dbd83a-f94a-47eb-8d3e-9672789ef773",
   "metadata": {},
   "outputs": [],
   "source": []
  }
 ],
 "metadata": {
  "kernelspec": {
   "display_name": "Python 3 (ipykernel)",
   "language": "python",
   "name": "python3"
  },
  "language_info": {
   "codemirror_mode": {
    "name": "ipython",
    "version": 3
   },
   "file_extension": ".py",
   "mimetype": "text/x-python",
   "name": "python",
   "nbconvert_exporter": "python",
   "pygments_lexer": "ipython3",
   "version": "3.12.8"
  }
 },
 "nbformat": 4,
 "nbformat_minor": 5
}
