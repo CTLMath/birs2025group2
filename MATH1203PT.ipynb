{
 "cells": [
  {
   "cell_type": "markdown",
   "id": "e15ab8c4-3ba9-4bc0-b7f5-96a7d07072e0",
   "metadata": {},
   "source": [
    "Eigenvalues and Eigenvectors an Introduction"
   ]
  },
  {
   "cell_type": "code",
   "execution_count": 12,
   "id": "85590812-5d1f-4eaf-883d-af1c0f6e8eca",
   "metadata": {},
   "outputs": [],
   "source": [
    "\n",
    "import numpy as np\n",
    "import matplotlib.pyplot as plt\n",
    "import scipy.linalg as la\n"
   ]
  },
  {
   "cell_type": "code",
   "execution_count": 6,
   "id": "7025d59b-ad82-4ab1-b922-5dadd19285f6",
   "metadata": {},
   "outputs": [],
   "source": [
    "A = np.array([[-1,0],[0,1]])\n",
    "evals,evecs = la.eig(A)"
   ]
  },
  {
   "cell_type": "code",
   "execution_count": 9,
   "id": "e989c9d2-3537-400c-b86b-dbe154ff1458",
   "metadata": {},
   "outputs": [
    {
     "data": {
      "text/plain": [
       "array([-1.+0.j,  1.+0.j])"
      ]
     },
     "execution_count": 9,
     "metadata": {},
     "output_type": "execute_result"
    }
   ],
   "source": [
    "evals\n"
   ]
  },
  {
   "cell_type": "code",
   "execution_count": 8,
   "id": "c7aaf157-2ebe-4396-86f6-6c66cd67ce6e",
   "metadata": {},
   "outputs": [
    {
     "data": {
      "text/plain": [
       "array([[1., 0.],\n",
       "       [0., 1.]])"
      ]
     },
     "execution_count": 8,
     "metadata": {},
     "output_type": "execute_result"
    }
   ],
   "source": [
    "evecs\n"
   ]
  },
  {
   "cell_type": "markdown",
   "id": "24b56a1d-925c-4d56-8d42-3c0dc8cbfa41",
   "metadata": {},
   "source": [
    " Problem 1 : Consider the matrix $B=\\left[\\begin{array}{cc} 3&5 \\\\ 1&-1\\end{array}\\right],$ and   the vector $x=\\left[\\begin{array}{c}5 \\\\1 \\end{array}\\right].$ Is $x$ an eigenvector, if so find the corresponding eigenvalue of $B$ for the eigenvector $x.$"
   ]
  },
  {
   "cell_type": "code",
   "execution_count": 24,
   "id": "fba4e7f1-3d4f-4ae0-92bb-163727ad05e0",
   "metadata": {},
   "outputs": [
    {
     "name": "stdout",
     "output_type": "stream",
     "text": [
      "[20  4]\n"
     ]
    }
   ],
   "source": [
    "#\"Test for eigenvalues and eigenvectors using the definition\"\n",
    "B = np.array([[3,5],[1,-1]])\n",
    "x=np.array([5,1])\n",
    "Bx=np.dot(B,x)\n",
    "print(Bx)"
   ]
  },
  {
   "cell_type": "markdown",
   "id": "3e4818e6-d56e-42fa-bd5a-26f021f457c4",
   "metadata": {},
   "source": [
    "Can you find $\\lambda$ such that $Bx=\\lambda x$?\n"
   ]
  },
  {
   "cell_type": "code",
   "execution_count": 34,
   "id": "46412a07-4695-4c3d-972d-6a569d7d0dc6",
   "metadata": {},
   "outputs": [],
   "source": [
    "#  Check x is an eigenvector or not.\n",
    "#Enter your response as True or False and save it as  result.\n",
    "# YOUR CODE HERE\n",
    "result = True\n",
    "\n"
   ]
  },
  {
   "cell_type": "code",
   "execution_count": 35,
   "id": "5b9f0d5d-ac7d-4846-913e-7b3e43a29d49",
   "metadata": {},
   "outputs": [
    {
     "name": "stdout",
     "output_type": "stream",
     "text": [
      "Problem 1 Test 1: Success!\n"
     ]
    }
   ],
   "source": [
    "# Test 1: Check if result is True or False. (1 mark)\n",
    "assert result==True , \"observation3a should be either True or False.\"\n",
    "\n",
    "print(\"Problem 1 Test 1: Success!\")"
   ]
  },
  {
   "cell_type": "markdown",
   "id": "00534b3b-6518-4353-b8eb-1c7f5660c244",
   "metadata": {},
   "source": [
    "Problem 2: Consider the matrix $B=\\left[\\begin{array}{cc} 3&5 \\\\ 1&-1\\end{array}\\right],$ and   the vector $y=\\left[\\begin{array}{c}3 \\\\2 \\end{array}\\right].$ \n",
    " Is $y$ an eigenvector, if so find the corresponding eigenvalue of $B$ for the eigenvector $y.$"
   ]
  },
  {
   "cell_type": "code",
   "execution_count": 25,
   "id": "a400ad46-259e-408f-8384-73c95b2e0ff4",
   "metadata": {},
   "outputs": [
    {
     "name": "stdout",
     "output_type": "stream",
     "text": [
      "[19  1]\n"
     ]
    }
   ],
   "source": [
    "B = np.array([[3,5],[1,-1]])\n",
    "y=np.array([3,2])\n",
    "By=np.dot(B,y)\n",
    "print(By)"
   ]
  },
  {
   "cell_type": "markdown",
   "id": "213fe706-628e-480f-9f73-1d270c5124ec",
   "metadata": {},
   "source": [
    "Can you find a scalar $\\lambda_2$ such that $By=\\lambda_2 y$?\n"
   ]
  },
  {
   "cell_type": "markdown",
   "id": "6f2ccd81-b339-4e5d-ab97-306dc5d72e23",
   "metadata": {},
   "source": [
    " Problem 3 : Consider the matrix $C=\\left[\\begin{array}{ccc} 2&-1 &-1\\\\ -1&2&-1\\\\-1&-1&2\\end{array}\\right],$ and the vector $z=\\left[\\begin{array}{c}1 \\\\1\\\\1 \\end{array}\\right].$ Is $z$ an eigenvector, if so find the corresponding eigenvalue of $C$ for the eigenvector $z.$"
   ]
  },
  {
   "cell_type": "code",
   "execution_count": 26,
   "id": "d072fab3-afa7-43d0-802d-766c0ca06e12",
   "metadata": {},
   "outputs": [
    {
     "name": "stdout",
     "output_type": "stream",
     "text": [
      "[0 0 0]\n"
     ]
    }
   ],
   "source": [
    "C = np.array([[2,-1,-1],[-1,2,-1],[-1,-1,2]])\n",
    "z=np.array([1,1,1])\n",
    "Cz=np.dot(C,z)\n",
    "w=print(Cz)"
   ]
  },
  {
   "cell_type": "markdown",
   "id": "e9e0ed17-66a4-41e2-9744-a63e24f2ca1e",
   "metadata": {},
   "source": [
    "Can you find a scalar $\\lambda_3$ such that $Cz=\\lambda_3 z$?"
   ]
  },
  {
   "cell_type": "code",
   "execution_count": null,
   "id": "4c5ff4be-30f8-43ca-b4f4-65ee0286f7a0",
   "metadata": {},
   "outputs": [],
   "source": []
  }
 ],
 "metadata": {
  "kernelspec": {
   "display_name": "Python 3 (ipykernel)",
   "language": "python",
   "name": "python3"
  },
  "language_info": {
   "codemirror_mode": {
    "name": "ipython",
    "version": 3
   },
   "file_extension": ".py",
   "mimetype": "text/x-python",
   "name": "python",
   "nbconvert_exporter": "python",
   "pygments_lexer": "ipython3",
   "version": "3.12.8"
  }
 },
 "nbformat": 4,
 "nbformat_minor": 5
}
