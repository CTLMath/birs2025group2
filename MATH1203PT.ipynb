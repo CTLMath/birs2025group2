{
 "cells": [
  {
   "cell_type": "markdown",
   "id": "e15ab8c4-3ba9-4bc0-b7f5-96a7d07072e0",
   "metadata": {},
   "source": [
    "$\\textbf{Eigenvalues and Eigenvectors an Introduction}$"
   ]
  },
  {
   "cell_type": "markdown",
   "id": "769637e0-a361-4d1c-b28f-45fe604fffc8",
   "metadata": {},
   "source": [
    "Definition: Let $A$ be an $n\\times n$ matrix. Then , a scalar $\\lambda$ is called an eigenvalue of \\(A\\) if\n",
    "$$A\\mathbf{x} = \\lambda \\mathbf{x} \\mbox{ for some column vector } \\mathbf{x} \\neq \\mathbf{0} \\mbox{ in } \\mathbb{C}^n \\nonumber$$\n",
    "\n",
    "In this case, $\\mathbf{x}$ is called an eigenvector of $A$ corresponding to the eigenvalue $\\lambda$, or a $\\lambda $-eigenvector for short."
   ]
  },
  {
   "cell_type": "code",
   "execution_count": 54,
   "id": "85590812-5d1f-4eaf-883d-af1c0f6e8eca",
   "metadata": {},
   "outputs": [],
   "source": [
    "\n",
    "import numpy as np\n",
    "import matplotlib.pyplot as plt\n",
    "import scipy.linalg as la\n"
   ]
  },
  {
   "cell_type": "code",
   "execution_count": 55,
   "id": "7025d59b-ad82-4ab1-b922-5dadd19285f6",
   "metadata": {},
   "outputs": [],
   "source": [
    "A = np.array([[-1,0],[0,1]])\n",
    "evals,evecs = la.eig(A)"
   ]
  },
  {
   "cell_type": "code",
   "execution_count": 56,
   "id": "e989c9d2-3537-400c-b86b-dbe154ff1458",
   "metadata": {},
   "outputs": [
    {
     "data": {
      "text/plain": [
       "array([-1.+0.j,  1.+0.j])"
      ]
     },
     "execution_count": 56,
     "metadata": {},
     "output_type": "execute_result"
    }
   ],
   "source": [
    "evals\n"
   ]
  },
  {
   "cell_type": "code",
   "execution_count": 57,
   "id": "c7aaf157-2ebe-4396-86f6-6c66cd67ce6e",
   "metadata": {},
   "outputs": [
    {
     "data": {
      "text/plain": [
       "array([[1., 0.],\n",
       "       [0., 1.]])"
      ]
     },
     "execution_count": 57,
     "metadata": {},
     "output_type": "execute_result"
    }
   ],
   "source": [
    "evecs\n"
   ]
  },
  {
   "cell_type": "markdown",
   "id": "24b56a1d-925c-4d56-8d42-3c0dc8cbfa41",
   "metadata": {},
   "source": [
    " $\\textbf{ Problem 1 :}$ Consider the matrix $B=\\left[\\begin{array}{cc} 3&5 \\\\ 1&-1\\end{array}\\right],$ and   the vector $x=\\left[\\begin{array}{c}5 \\\\1 \\end{array}\\right].$ Is $x$ an eigenvector, if so find the corresponding eigenvalue of $B$ for the eigenvector $x.$"
   ]
  },
  {
   "cell_type": "code",
   "execution_count": 58,
   "id": "fba4e7f1-3d4f-4ae0-92bb-163727ad05e0",
   "metadata": {},
   "outputs": [
    {
     "name": "stdout",
     "output_type": "stream",
     "text": [
      "[20  4]\n"
     ]
    }
   ],
   "source": [
    "#\"Test for eigenvalues and eigenvectors using the definition\"\n",
    "B = np.array([[3,5],[1,-1]])\n",
    "x=np.array([5,1])\n",
    "Bx=np.dot(B,x)\n",
    "print(Bx)"
   ]
  },
  {
   "cell_type": "markdown",
   "id": "3e4818e6-d56e-42fa-bd5a-26f021f457c4",
   "metadata": {},
   "source": [
    "Can you find $\\lambda$ such that $Bx=\\lambda x$?\n"
   ]
  },
  {
   "cell_type": "code",
   "execution_count": 96,
   "id": "eb858ab8-3230-4fd7-ae67-fb36faf03d09",
   "metadata": {},
   "outputs": [
    {
     "name": "stdout",
     "output_type": "stream",
     "text": [
      "4.0\n",
      "4.0\n",
      "eigenvalue=4.0\n"
     ]
    }
   ],
   "source": [
    "Bx[0]/x[0]\n",
    "Bx[1]/x[1]\n",
    "print(Bx[0]/x[0])\n",
    "print(Bx[1]/x[1])\n",
    "if ( x[0] != 0 and x[1] != 0 and Bx[0] / x[0] == Bx[1] / x[1]): lambda_value1 = Bx[0] / x[0] \n",
    "else:\n",
    "    lambda_value1 = None \n",
    "    \n",
    "print(\"eigenvalue=\" +str(lambda_value1))"
   ]
  },
  {
   "cell_type": "markdown",
   "id": "08a3fc5c-7433-4b5f-91df-86be060b9b6d",
   "metadata": {},
   "source": [
    "What happens if any of the entries of $x$ is zero?\n",
    "Remember we are checking to see if the vectors $x$ and $Bx$ are parallel."
   ]
  },
  {
   "cell_type": "code",
   "execution_count": 60,
   "id": "46412a07-4695-4c3d-972d-6a569d7d0dc6",
   "metadata": {},
   "outputs": [],
   "source": [
    "#  Check x is an eigenvector or not.\n",
    "#Enter your response as True or False and save it as  result1.\n",
    "# YOUR CODE HERE\n",
    "result1 = True\n",
    "\n"
   ]
  },
  {
   "cell_type": "code",
   "execution_count": 61,
   "id": "5b9f0d5d-ac7d-4846-913e-7b3e43a29d49",
   "metadata": {},
   "outputs": [
    {
     "name": "stdout",
     "output_type": "stream",
     "text": [
      "Problem 1 Test 1: Success!\n"
     ]
    }
   ],
   "source": [
    "# Test 1: Check if the result1 is True or False. (1 mark)\n",
    "assert result1 ==True, \"result should be  True.\"\n",
    "\n",
    "print(\"Problem 1 Test 1: Success!\")"
   ]
  },
  {
   "cell_type": "code",
   "execution_count": 62,
   "id": "37ac4a48-b1c6-44d6-8f97-f30c5bc9f6d7",
   "metadata": {},
   "outputs": [],
   "source": [
    "# Find the eigenvalue, if it exists.\n",
    "#if eigenvalue_exists: value1 = computed_eigenvalue  # Replace with actual value else: value1 = \"NA\".\n",
    "# YOUR CODE HERE\n",
    "value1 =4"
   ]
  },
  {
   "cell_type": "code",
   "execution_count": 63,
   "id": "4768aa52-2f58-4cca-8a32-31e02ad94e71",
   "metadata": {},
   "outputs": [
    {
     "name": "stdout",
     "output_type": "stream",
     "text": [
      "Problem 1 Test 2: Success!\n"
     ]
    }
   ],
   "source": [
    "# Test 2: eigenvalue (1 mark)\n",
    "\n",
    "assert value1==4 , \"The eigenvalue is 4.\"\n",
    "\n",
    "print(\"Problem 1 Test 2: Success!\")"
   ]
  },
  {
   "cell_type": "markdown",
   "id": "00534b3b-6518-4353-b8eb-1c7f5660c244",
   "metadata": {},
   "source": [
    "$\\textbf{ Problem 2:}$ Consider the matrix $B=\\left[\\begin{array}{cc} 3&5 \\\\ 1&-1\\end{array}\\right],$ and   the vector $y=\\left[\\begin{array}{c}3 \\\\2 \\end{array}\\right].$ \n",
    " Is $y$ an eigenvector, if so find the corresponding eigenvalue of $B$ for the eigenvector $y.$"
   ]
  },
  {
   "cell_type": "code",
   "execution_count": 93,
   "id": "a400ad46-259e-408f-8384-73c95b2e0ff4",
   "metadata": {},
   "outputs": [
    {
     "name": "stdout",
     "output_type": "stream",
     "text": [
      "[19  1]\n"
     ]
    }
   ],
   "source": [
    "B = np.array([[3,5],[1,-1]])\n",
    "y=np.array([3,2])\n",
    "By=np.dot(B,y)\n",
    "print(By)"
   ]
  },
  {
   "cell_type": "markdown",
   "id": "213fe706-628e-480f-9f73-1d270c5124ec",
   "metadata": {},
   "source": [
    "Can you find a scalar $\\lambda_2$ such that $By=\\lambda_2 y$?\n"
   ]
  },
  {
   "cell_type": "code",
   "execution_count": 95,
   "id": "84f6df0f-64fd-4a6b-b2d6-c149db7cfb4c",
   "metadata": {},
   "outputs": [
    {
     "name": "stdout",
     "output_type": "stream",
     "text": [
      "6.333333333333333\n",
      "0.5\n",
      "eigenvalue=None\n"
     ]
    }
   ],
   "source": [
    "By[0]/y[0]\n",
    "By[1]/y[1]\n",
    "print(By[0]/y[0])\n",
    "print(By[1]/y[1])\n",
    "if ( y[0] != 0 and y[1] != 0 and By[0] / y[0] == By[1] / y[1]): lambda_value2 = By[0] / y[0] \n",
    "else:\n",
    "    lambda_value2 = None \n",
    "    \n",
    "print(\"eigenvalue=\" +str(lambda_value2))"
   ]
  },
  {
   "cell_type": "code",
   "execution_count": 66,
   "id": "8ffa4aa4-e1bb-4a62-871f-6728b0e719fd",
   "metadata": {},
   "outputs": [],
   "source": [
    "#  Check x is an eigenvector or not.\n",
    "#Enter your response as True or False and save it as  result2.\n",
    "# YOUR CODE HERE\n",
    "result2 = False"
   ]
  },
  {
   "cell_type": "code",
   "execution_count": 67,
   "id": "ab1dfd34-7f00-4f77-8067-138a8199e711",
   "metadata": {},
   "outputs": [],
   "source": [
    "# Find the eigenvalue, if it exists.\n",
    "#if eigenvalue_exists: value 2= computed_eigenvalue  # Replace with actual value else: value2 = \"NA\"\n",
    "# YOUR CODE HERE\n",
    "value2 =\"NA\""
   ]
  },
  {
   "cell_type": "code",
   "execution_count": 68,
   "id": "96a66dd6-ab41-4e72-9308-0047c148545a",
   "metadata": {},
   "outputs": [
    {
     "name": "stdout",
     "output_type": "stream",
     "text": [
      "Problem 2 Test 2: Success!\n"
     ]
    }
   ],
   "source": [
    "# Test 2: eigenvalue (1 mark)\n",
    "\n",
    "assert value2 ==\"NA\"\n",
    "\n",
    "print(\"Problem 2 Test 2: Success!\")"
   ]
  },
  {
   "cell_type": "markdown",
   "id": "6f2ccd81-b339-4e5d-ab97-306dc5d72e23",
   "metadata": {},
   "source": [
    " $\\textbf{ Problem 3:}$ Consider the matrix $C=\\left[\\begin{array}{ccc} 2&-1 &-1\\\\ -1&2&-1\\\\-1&-1&2\\end{array}\\right],$ and the vector $z=\\left[\\begin{array}{c}1 \\\\1\\\\1 \\end{array}\\right].$ Is $z$ an eigenvector, if so find the corresponding eigenvalue of $C$ for the eigenvector $z.$"
   ]
  },
  {
   "cell_type": "code",
   "execution_count": 70,
   "id": "d072fab3-afa7-43d0-802d-766c0ca06e12",
   "metadata": {},
   "outputs": [
    {
     "name": "stdout",
     "output_type": "stream",
     "text": [
      "[0 0 0]\n"
     ]
    }
   ],
   "source": [
    "C = np.array([[2,-1,-1],[-1,2,-1],[-1,-1,2]])\n",
    "z=np.array([1,1,1])\n",
    "Cz=np.dot(C,z)\n",
    "w=print(Cz)"
   ]
  },
  {
   "cell_type": "markdown",
   "id": "e9e0ed17-66a4-41e2-9744-a63e24f2ca1e",
   "metadata": {},
   "source": [
    "Can you find a scalar $\\lambda_3$ such that $Cz=\\lambda_3 z$?"
   ]
  },
  {
   "cell_type": "code",
   "execution_count": null,
   "id": "372c1e6f-7877-433e-92fc-e0a836860745",
   "metadata": {},
   "outputs": [],
   "source": []
  },
  {
   "cell_type": "code",
   "execution_count": 100,
   "id": "0ed38fc6-ec0d-4765-bbfc-fa36f2ccf7fb",
   "metadata": {},
   "outputs": [
    {
     "name": "stdout",
     "output_type": "stream",
     "text": [
      "0.0\n",
      "0.0\n",
      "0.0\n",
      "eigenvalue=0.0\n"
     ]
    }
   ],
   "source": [
    "Cz[0]/z[0]\n",
    "Cz[1]/z[1]\n",
    "Cz[2]/z[2]\n",
    "print(Cz[0]/z[0])\n",
    "print(Cz[1]/z[1])\n",
    "print(Cz[2]/z[2])\n",
    "\n",
    "if ( z[0] != 0 and z[1] != 0 and z[2] !=0 and Cz[0] / z[0] == Cz[1] / z[1]==  Cz[2] / z[2]): lambda_value3 =  Cz[1] / z[1] \n",
    "else:\n",
    "    lambda_value3 = None \n",
    "    \n",
    "print(\"eigenvalue=\" +str(lambda_value3))"
   ]
  },
  {
   "cell_type": "code",
   "execution_count": 72,
   "id": "ea9691f2-d7cd-41d4-a1ec-581cdb0e848b",
   "metadata": {},
   "outputs": [],
   "source": [
    "#  Check x is an eigenvector or not.\n",
    "#Enter your response as True or False and save it as  result3.\n",
    "# YOUR CODE HERE\n",
    "result3 = True"
   ]
  },
  {
   "cell_type": "code",
   "execution_count": 73,
   "id": "dfb82c44-8b10-4c0f-8e82-8cde5a6c94c3",
   "metadata": {},
   "outputs": [],
   "source": [
    "# Find the eigenvalue, if it exists.\n",
    "#if eigenvalue_exists: value3= computed_eigenvalue  # Replace with actual value else: value3 = \"NA\"\n",
    "# YOUR CODE HERE\n",
    "value3 = 0"
   ]
  },
  {
   "cell_type": "code",
   "execution_count": 74,
   "id": "4c5ff4be-30f8-43ca-b4f4-65ee0286f7a0",
   "metadata": {},
   "outputs": [
    {
     "name": "stdout",
     "output_type": "stream",
     "text": [
      "Problem 3 Test 2: Success!\n"
     ]
    }
   ],
   "source": [
    "# Test 2: eigenvalue (1 mark)\n",
    "\n",
    "assert value3==0, \"The eigenvalue is 0.\"\n",
    "\n",
    "print(\"Problem 3 Test 2: Success!\")"
   ]
  },
  {
   "cell_type": "code",
   "execution_count": null,
   "id": "4e0acfb8-c164-4455-9bd0-3edb7aaad84b",
   "metadata": {},
   "outputs": [],
   "source": []
  }
 ],
 "metadata": {
  "kernelspec": {
   "display_name": "Python 3 (ipykernel)",
   "language": "python",
   "name": "python3"
  },
  "language_info": {
   "codemirror_mode": {
    "name": "ipython",
    "version": 3
   },
   "file_extension": ".py",
   "mimetype": "text/x-python",
   "name": "python",
   "nbconvert_exporter": "python",
   "pygments_lexer": "ipython3",
   "version": "3.12.8"
  }
 },
 "nbformat": 4,
 "nbformat_minor": 5
}
