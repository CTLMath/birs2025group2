{
 "cells": [
  {
   "cell_type": "markdown",
   "id": "a3750251-4d78-412d-a5d4-05491b05c97e",
   "metadata": {},
   "source": [
    "# A crash course for eigenvectors for first-year science students\n",
    "\n",
    "The course is a first-year second-term calculus course for mostly medical science students (pre-meds). The course has roughly 700 students with 250 per section. The goal is to introduce eigenvectors as quickly as possible for the purpose of discussing solutions of $2 \\times 2$ systems of ODEs.\n",
    "\n",
    "At this point of the course, students are expected to understand basic vector operations and matrix-vector multiplication."
   ]
  },
  {
   "cell_type": "markdown",
   "id": "a9cb04ac-16f2-4e8c-bf4f-34ed4ff0a09a",
   "metadata": {},
   "source": [
    "Recall that eigenvectors for a matrix $A$ is a non-zero vector $v$ that satisfies $$Av = \\lambda v \\quad\\text{for some constant $\\lambda$}.$$\n",
    "\n",
    "The following game allows you to control a vector $v$ using two sliders named $r$ and $\\theta$. Don't worry about the names of the sliders. \n",
    "- The vector $v$ is plotted in blue.\n",
    "- The vector $Av$ is plotted in red.\n",
    "\n",
    "Play with the sliders to visually identify eigenvectors for V."
   ]
  },
  {
   "cell_type": "code",
   "execution_count": 24,
   "id": "bb9bd407-702d-41af-a02d-cc2b162a3320",
   "metadata": {
    "jupyter": {
     "source_hidden": true
    }
   },
   "outputs": [
    {
     "data": {
      "application/vnd.jupyter.widget-view+json": {
       "model_id": "fa35a5b3ffb04d5cadab04a5828f2e91",
       "version_major": 2,
       "version_minor": 0
      },
      "text/plain": [
       "interactive(children=(FloatSlider(value=1.0, description='r', max=4.0, min=1.0), FloatSlider(value=0.0, descri…"
      ]
     },
     "metadata": {},
     "output_type": "display_data"
    }
   ],
   "source": [
    "%reset -f\n",
    "\n",
    "import numpy as np\n",
    "import matplotlib.pyplot as plt\n",
    "import ipywidgets as widgets\n",
    "\n",
    "def find_eigenvector(A, r, theta):\n",
    "    v = np.array([ r*np.cos(theta), r*np.sin(theta) ])\n",
    "    u = A @ v\n",
    "\n",
    "    # plotting options\n",
    "    plt.grid()\n",
    "    plt.xlim(-10, 10)\n",
    "    plt.ylim(-10, 10)\n",
    "    plt.gca().set_aspect('equal')\n",
    "    \n",
    "    args = {\n",
    "        \"head_width\": 0.5,\n",
    "        \"head_length\": 0.5,\n",
    "    }\n",
    "    \n",
    "    plt.arrow(0, 0, *v, **args, color=\"blue\")\n",
    "\n",
    "    # u dot v = |u| * |v| * cos( angle between u and v )\n",
    "    cos = np.dot(v, u) / ( np.linalg.norm(u) * np.linalg.norm(v) )\n",
    "\n",
    "    # are u, v colinear?\n",
    "    if np.abs( 1 - np.abs(cos) ) < 10**(-4):\n",
    "        plt.arrow(0, 0, *u, **args, color=\"green\")\n",
    "    else:\n",
    "        plt.arrow(0, 0, *u, **args, color=\"red\")\n",
    "\n",
    "    plt.text( *u, \"$v$\")\n",
    "    plt.text( *v, \"$Av$\")\n",
    "\n",
    "A = np.reshape([2, 0, -6, -1], (2,2))\n",
    "widgets.interact(\n",
    "        lambda r, theta: find_eigenvector(A, r, theta), \n",
    "        r     = widgets.FloatSlider(value=1, min=1, max=4, step=0.1),\n",
    "        theta = widgets.FloatSlider(value=0, min=0, max=2*3.14, step=0.01),\n",
    "    );"
   ]
  },
  {
   "cell_type": "markdown",
   "id": "011adf6c-8d3e-4797-b170-97b09961df71",
   "metadata": {},
   "source": [
    "**In-class activity**. \n",
    "\n",
    "Consider a matrix $A$.  The function `la.eigen(A)` returns a pair of eigenvectors for $A$.\n",
    "\n",
    "Decide if the vector $v = \\begin{bmatrix} -2 \\\\ 4 \\end{bmatrix}$ an eigenvector for $A$. If so, find its eigenvalue."
   ]
  },
  {
   "cell_type": "code",
   "execution_count": 52,
   "id": "bc8a7c6f-c6ef-4060-b3db-051d5525898e",
   "metadata": {
    "jupyter": {
     "source_hidden": true
    }
   },
   "outputs": [
    {
     "name": "stdout",
     "output_type": "stream",
     "text": [
      "Eigenvector [0. 1.] has eigenvalue -1.0.\n",
      "Eigenvector [ 0.4472136  -0.89442719] has eigenvalue 2.0.\n"
     ]
    }
   ],
   "source": [
    "import scipy.linalg as la\n",
    "\n",
    "A = np.reshape([2, 0, -6, -1], (2,2))\n",
    "eigenvalues, eigenvectors = map(lambda x: x.real, la.eig(A))\n",
    "eigenvectors = eigenvectors.T\n",
    "\n",
    "for lam, v in zip(eigenvalues, eigenvectors):\n",
    "    print(f\"Eigenvector {v} has eigenvalue {lam}.\")"
   ]
  },
  {
   "cell_type": "markdown",
   "id": "17f6aba7-d4e6-4d59-bde9-352efd1e4ffb",
   "metadata": {},
   "source": [
    "**Gaussian elimination and eigenvectors**\n",
    "\n",
    "The defining equation for eigenvectors $Av = \\lambda v$. This equation says that $v$ is an eigenvector if and only if $Av$ and $v$ are colinear. We will explore colinearity using Gaussian elimination of the matrix $A$. Form a matrix $M$ where $v$ is in the first row and $Av$ is in the second row.\n",
    "\n",
    "Reduce $M$ to echelon form to decide if $v$ is an eigenvector of $A$. We'll play with the following matrix."
   ]
  },
  {
   "cell_type": "code",
   "execution_count": 58,
   "id": "a3329fe4-5871-4529-8add-a53d11eea1ef",
   "metadata": {},
   "outputs": [],
   "source": [
    "# run this first\n",
    "from sympy import Matrix\n",
    "\n",
    "A = np.reshape([2, 0, -6, -1], (2,2))"
   ]
  },
  {
   "cell_type": "code",
   "execution_count": 59,
   "id": "c894080a-bd9b-4f0e-85fa-208462cd532b",
   "metadata": {},
   "outputs": [
    {
     "data": {
      "text/latex": [
       "$\\displaystyle \\left[\\begin{matrix}1 & -1\\\\0 & -3\\end{matrix}\\right]$"
      ],
      "text/plain": [
       "Matrix([\n",
       "[1, -1],\n",
       "[0, -3]])"
      ]
     },
     "execution_count": 59,
     "metadata": {},
     "output_type": "execute_result"
    }
   ],
   "source": [
    "# Is the following v an eigenvector for A?\n",
    "v = np.array([1, -1])\n",
    "M = Matrix(np.array([v, A@v]))\n",
    "M.echelon_form()"
   ]
  },
  {
   "cell_type": "code",
   "execution_count": 60,
   "id": "b8f2724e-1b5b-4086-bc71-09f1d49a439f",
   "metadata": {},
   "outputs": [
    {
     "data": {
      "text/latex": [
       "$\\displaystyle \\left[\\begin{matrix}-10 & 20\\\\0 & 0\\end{matrix}\\right]$"
      ],
      "text/plain": [
       "Matrix([\n",
       "[-10, 20],\n",
       "[  0,  0]])"
      ]
     },
     "execution_count": 60,
     "metadata": {},
     "output_type": "execute_result"
    }
   ],
   "source": [
    "# Is the following v an eigenvector for A?\n",
    "v = np.array([-10, 20])\n",
    "M = Matrix(np.array([v, A@v]))\n",
    "M.echelon_form()"
   ]
  }
 ],
 "metadata": {
  "kernelspec": {
   "display_name": "Python 3 (ipykernel)",
   "language": "python",
   "name": "python3"
  },
  "language_info": {
   "codemirror_mode": {
    "name": "ipython",
    "version": 3
   },
   "file_extension": ".py",
   "mimetype": "text/x-python",
   "name": "python",
   "nbconvert_exporter": "python",
   "pygments_lexer": "ipython3",
   "version": "3.12.10"
  }
 },
 "nbformat": 4,
 "nbformat_minor": 5
}
