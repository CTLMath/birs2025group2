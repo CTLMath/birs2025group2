{
 "cells": [
  {
   "cell_type": "markdown",
   "id": "a3750251-4d78-412d-a5d4-05491b05c97e",
   "metadata": {},
   "source": [
    "# A crash course for eigenvectors for first-year science students\n",
    "\n",
    "The course is a first-year second-term calculus course for mostly medical science students (pre-meds). The course has roughly 700 students with 250 per section. The goal is to introduce eigenvectors as quickly as possible for the purpose of discussing solutions of $2 \\times 2$ systems of ODEs.\n",
    "\n",
    "At this point of the course, students are expected to understand basic vector operations and matrix-vector multiplication."
   ]
  },
  {
   "cell_type": "markdown",
   "id": "a9cb04ac-16f2-4e8c-bf4f-34ed4ff0a09a",
   "metadata": {},
   "source": [
    "**In-class Activity**.\n",
    "\n",
    "Recall that eigenvectors for a matrix $A$ is a non-zero vector $v$ that satisfies $$Av = \\lambda v \\quad\\text{for some constant $\\lambda$}.$$\n",
    "\n",
    "The following game allows you to control a vector $v$ using two sliders named $r$ and $\\theta$. Don't worry about the names of the sliders. \n",
    "- The vector $v$ is plotted in blue.\n",
    "- The vector $Av$ is plotted in red.\n",
    "\n",
    "Play with the sliders to visually identify eigenvectors for V."
   ]
  },
  {
   "cell_type": "code",
   "execution_count": 3,
   "id": "bb9bd407-702d-41af-a02d-cc2b162a3320",
   "metadata": {
    "jupyter": {
     "source_hidden": true
    }
   },
   "outputs": [
    {
     "data": {
      "application/vnd.jupyter.widget-view+json": {
       "model_id": "121c2123a00b4374be2970520f0427ff",
       "version_major": 2,
       "version_minor": 0
      },
      "text/plain": [
       "interactive(children=(FloatSlider(value=1.0, description='r', max=4.0, min=1.0), FloatSlider(value=0.0, descri…"
      ]
     },
     "metadata": {},
     "output_type": "display_data"
    }
   ],
   "source": [
    "%reset -f\n",
    "\n",
    "import numpy as np\n",
    "import matplotlib.pyplot as plt\n",
    "import ipywidgets as widgets\n",
    "\n",
    "def find_eigenvector(A, r, theta):\n",
    "    u = np.array([ r*np.cos(theta), r*np.sin(theta) ])\n",
    "    v = A @ u\n",
    "\n",
    "    plt.xlim(-10, 10);\n",
    "    plt.ylim(-10, 10);\n",
    "    args = {\n",
    "        \"head_width\": 0.5,\n",
    "        \"head_length\": 0.5,\n",
    "    }\n",
    "    plt.arrow(0, 0, *u, **args, color=\"blue\", label=\"v\")\n",
    "    plt.arrow(0, 0, *v, **args, color=\"red\", label=\"Av\")\n",
    "    plt.grid()\n",
    "    plt.text( *u, \"$v$\")\n",
    "    plt.text( *v, \"$Av$\")\n",
    "\n",
    "A = np.reshape([2, 0, -6, -1], (2,2))\n",
    "widgets.interact(\n",
    "        lambda r, theta: find_eigenvector(A, r, theta), \n",
    "        r     = widgets.FloatSlider(value=1, min=1, max=4, step=0.1),\n",
    "        theta = widgets.FloatSlider(value=0, min=0, max=2*3.14, step=0.01),\n",
    "    );"
   ]
  },
  {
   "cell_type": "markdown",
   "id": "011adf6c-8d3e-4797-b170-97b09961df71",
   "metadata": {},
   "source": [
    "**In-class activity**. \n",
    "\n",
    "Consider a matrix $A$.  The function `la.eigen(A)` returns a pair of eigenvectors for $A$.\n",
    "\n",
    "Decide if the vector $v = \\begin{bmatrix} -2 \\\\ 4 \\end{bmatrix}$ an eigenvector for $A$. If so, find its eigenvalue."
   ]
  },
  {
   "cell_type": "code",
   "execution_count": 2,
   "id": "bc8a7c6f-c6ef-4060-b3db-051d5525898e",
   "metadata": {},
   "outputs": [
    {
     "data": {
      "text/plain": [
       "(array([-1.+0.j,  2.+0.j]),\n",
       " array([[ 0.        ,  0.4472136 ],\n",
       "        [ 1.        , -0.89442719]]))"
      ]
     },
     "execution_count": 2,
     "metadata": {},
     "output_type": "execute_result"
    }
   ],
   "source": [
    "import scipy.linalg as la\n",
    "\n",
    "A = np.reshape([2, 0, -6, -1], (2,2))\n",
    "la.eig(A)"
   ]
  }
 ],
 "metadata": {
  "kernelspec": {
   "display_name": "Python 3 (ipykernel)",
   "language": "python",
   "name": "python3"
  },
  "language_info": {
   "codemirror_mode": {
    "name": "ipython",
    "version": 3
   },
   "file_extension": ".py",
   "mimetype": "text/x-python",
   "name": "python",
   "nbconvert_exporter": "python",
   "pygments_lexer": "ipython3",
   "version": "3.12.10"
  }
 },
 "nbformat": 4,
 "nbformat_minor": 5
}
